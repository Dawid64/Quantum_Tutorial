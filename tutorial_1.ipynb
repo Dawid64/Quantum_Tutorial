{
 "cells": [
  {
   "cell_type": "code",
   "execution_count": null,
   "metadata": {},
   "outputs": [],
   "source": [
    "try:\n",
    "    from qiskit import *\n",
    "except:\n",
    "    print('You don\\'t have qiskit yet, time to install it')\n",
    "    !pip install --quiet qiskit\n",
    "    from qiskit import *"
   ]
  },
  {
   "cell_type": "code",
   "execution_count": null,
   "metadata": {},
   "outputs": [],
   "source": []
  }
 ],
 "metadata": {
  "language_info": {
   "name": "python"
  },
  "orig_nbformat": 4
 },
 "nbformat": 4,
 "nbformat_minor": 2
}
